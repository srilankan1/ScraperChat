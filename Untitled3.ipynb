{
  "nbformat": 4,
  "nbformat_minor": 0,
  "metadata": {
    "colab": {
      "provenance": [],
      "toc_visible": true,
      "authorship_tag": "ABX9TyMDelyhyZzgpfBgtURxKwQH",
      "include_colab_link": true
    },
    "kernelspec": {
      "name": "python3",
      "display_name": "Python 3"
    },
    "language_info": {
      "name": "python"
    }
  },
  "cells": [
    {
      "cell_type": "markdown",
      "metadata": {
        "id": "view-in-github",
        "colab_type": "text"
      },
      "source": [
        "<a href=\"https://colab.research.google.com/github/srilankan1/ScraperChat/blob/main/Untitled3.ipynb\" target=\"_parent\"><img src=\"https://colab.research.google.com/assets/colab-badge.svg\" alt=\"Open In Colab\"/></a>"
      ]
    },
    {
      "cell_type": "code",
      "source": [
        "!pip install PyPDF2\n"
      ],
      "metadata": {
        "colab": {
          "base_uri": "https://localhost:8080/"
        },
        "id": "FFibz-XD3NK8",
        "outputId": "61b71c76-e09b-4f94-946a-0f3f732b36cd"
      },
      "execution_count": 2,
      "outputs": [
        {
          "output_type": "stream",
          "name": "stdout",
          "text": [
            "Looking in indexes: https://pypi.org/simple, https://us-python.pkg.dev/colab-wheels/public/simple/\n",
            "Collecting PyPDF2\n",
            "  Downloading pypdf2-3.0.1-py3-none-any.whl (232 kB)\n",
            "\u001b[2K     \u001b[90m━━━━━━━━━━━━━━━━━━━━━━━━━━━━━━━━━━━━━━━\u001b[0m \u001b[32m232.6/232.6 kB\u001b[0m \u001b[31m5.4 MB/s\u001b[0m eta \u001b[36m0:00:00\u001b[0m\n",
            "\u001b[?25hInstalling collected packages: PyPDF2\n",
            "Successfully installed PyPDF2-3.0.1\n"
          ]
        }
      ]
    },
    {
      "cell_type": "code",
      "source": [
        "import requests\n",
        "from bs4 import BeautifulSoup\n",
        "from PyPDF2 import PdfReader\n",
        "from io import BytesIO\n",
        "\n",
        "def scrape_page(url):\n",
        "    response = requests.get(url)\n",
        "    if response.status_code == 200:\n",
        "        soup = BeautifulSoup(response.content, 'lxml')\n",
        "        text = ' '.join([p.text for p in soup.find_all('p')])\n",
        "        return text\n",
        "    else:\n",
        "        return None\n",
        "\n",
        "def extract_text_from_pdf(pdf_path_or_url, is_url=False):\n",
        "    if is_url:\n",
        "        response = requests.get(pdf_path_or_url)\n",
        "        with BytesIO(response.content) as f:\n",
        "            reader = PdfReader(f)\n",
        "            text = ' '.join([reader.pages[i].extract_text() for i in range(len(reader.pages))])\n",
        "            return text\n",
        "    else:\n",
        "        with open(pdf_path_or_url, 'rb') as f:\n",
        "            reader = PdfReader(f)\n",
        "            text = ' '.join([reader.pages[i].extract_text() for i in range(len(reader.pages))])\n",
        "            return text\n",
        "\n",
        "def main(path, is_pdf=False):\n",
        "    is_url = path.startswith(\"http://\") or path.startswith(\"https://\")\n",
        "    \n",
        "    if is_pdf:\n",
        "        text = extract_text_from_pdf(path, is_url)\n",
        "    else:\n",
        "        if is_url:\n",
        "            text = scrape_page(path)\n",
        "        else:\n",
        "            print(\"Please provide a URL for web pages.\")\n",
        "            return\n",
        "    \n",
        "    if text:\n",
        "        print(text)\n",
        "    else:\n",
        "        print(\"Failed to process the input.\")\n",
        "\n",
        "if __name__ == \"__main__\":\n",
        "    path = input(\"Enter a URL or file path: \")\n",
        "    is_pdf = input(\"Is it a PDF file? (yes/no): \").lower() == 'yes'\n",
        "    main(path, is_pdf)\n"
      ],
      "metadata": {
        "id": "5h28A9EG68ki"
      },
      "execution_count": null,
      "outputs": []
    }
  ]
}